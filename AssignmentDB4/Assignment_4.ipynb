{
 "cells": [
  {
   "cell_type": "code",
   "execution_count": 52,
   "id": "240bb67e",
   "metadata": {},
   "outputs": [],
   "source": [
    "###Imports\n",
    "import happybase\n",
    "import pandas as pd"
   ]
  },
  {
   "cell_type": "code",
   "execution_count": 53,
   "id": "984e0579",
   "metadata": {},
   "outputs": [],
   "source": [
    "###Import the data\n",
    "food = pd.read_excel('Food_Display_Table.xlsx')"
   ]
  },
  {
   "cell_type": "code",
   "execution_count": 54,
   "id": "be8687d8",
   "metadata": {},
   "outputs": [],
   "source": [
    "###Connect to the database\n",
    "connection = happybase.Connection('localhost', port=16010)\n",
    "table = connection.table('foods')"
   ]
  },
  {
   "cell_type": "code",
   "execution_count": 55,
   "id": "652963eb",
   "metadata": {},
   "outputs": [],
   "source": [
    "###Set column Family\n",
    "columnFamily = 'food'"
   ]
  },
  {
   "cell_type": "code",
   "execution_count": 56,
   "id": "b930161d",
   "metadata": {},
   "outputs": [],
   "source": [
    "###Getting the columns\n",
    "columns = food.columns"
   ]
  },
  {
   "cell_type": "code",
   "execution_count": 58,
   "id": "13a867cc",
   "metadata": {},
   "outputs": [],
   "source": [
    "###insert values into database\n",
    "for index, row in food.iterrows():\n",
    "    row_key = row[columns[0]]\n",
    "    for col in columns[1:]:\n",
    "        table.put(str(row_key), {columnFamily + ':' + col: str(row[col])})"
   ]
  }
 ],
 "metadata": {
  "kernelspec": {
   "display_name": "Python 3 (ipykernel)",
   "language": "python",
   "name": "python3"
  },
  "language_info": {
   "codemirror_mode": {
    "name": "ipython",
    "version": 3
   },
   "file_extension": ".py",
   "mimetype": "text/x-python",
   "name": "python",
   "nbconvert_exporter": "python",
   "pygments_lexer": "ipython3",
   "version": "3.9.7"
  }
 },
 "nbformat": 4,
 "nbformat_minor": 5
}
